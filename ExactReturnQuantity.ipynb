{
 "cells": [
  {
   "cell_type": "code",
   "execution_count": 3,
   "metadata": {
    "collapsed": false
   },
   "outputs": [
    {
     "name": "stdout",
     "output_type": "stream",
     "text": [
      "The autoreload extension is already loaded. To reload it, use:\n",
      "  %reload_ext autoreload\n"
     ]
    }
   ],
   "source": [
    "%matplotlib inline\n",
    "%load_ext autoreload\n",
    "%autoreload 2\n",
    "import matplotlib.pyplot as plt\n",
    "import seaborn as sns\n",
    "import numpy as np\n",
    "import pandas as pd\n",
    "\n",
    "import evaluate\n",
    "import merge\n",
    "import load\n",
    "\n",
    "from sklearn import preprocessing\n",
    "from sklearn import svm\n",
    "from sklearn import grid_search\n",
    "from sklearn import cross_validation\n",
    "from sklearn import pipeline\n",
    "from sklearn import tree\n",
    "from sklearn import metrics\n",
    "from sklearn import ensemble"
   ]
  },
  {
   "cell_type": "code",
   "execution_count": 2,
   "metadata": {
    "collapsed": true
   },
   "outputs": [],
   "source": [
    "# Load evaluation data\n",
    "test_columns = ['returnQuantity', 'articleID', 'productGroup', 'customerID', 'voucherID', 'returnQuantityMultilabel']\n",
    "test_predictions = merge.merged_predictions(test=True, keep_columns=test_columns)\n",
    "test_train = evaluate.test_complement(test_predictions)\n",
    "\n",
    "# Load classification data\n",
    "class_columns = ['articleID', 'productGroup', 'customerID', 'voucherID', 'quantity']\n",
    "class_predictions = merge.merged_predictions(keep_columns=class_columns)\n",
    "class_train = load.orders_train()"
   ]
  },
  {
   "cell_type": "code",
   "execution_count": 4,
   "metadata": {
    "collapsed": true
   },
   "outputs": [],
   "source": [
    "multilabel = class_train[(class_train.returnQuantity > 0) & (class_train.quantity > 0)]\n",
    "multilabel = merge.shuffle(multilabel)"
   ]
  },
  {
   "cell_type": "markdown",
   "metadata": {},
   "source": [
    "Classification based on mean return quantities for a given quantity which turned out to perform better man other classifiers."
   ]
  },
  {
   "cell_type": "code",
   "execution_count": 5,
   "metadata": {
    "collapsed": true
   },
   "outputs": [],
   "source": [
    "def score(cl, X, y):\n",
    "    ytick = cl.predict(X)\n",
    "    score = np.sum(np.abs(y - ytick))\n",
    "    return 1./score"
   ]
  },
  {
   "cell_type": "code",
   "execution_count": 6,
   "metadata": {
    "collapsed": true
   },
   "outputs": [],
   "source": [
    "def classify(quantity):\n",
    "    if quantity == 1:\n",
    "        return 1\n",
    "    elif quantity == 2:\n",
    "        return 1\n",
    "    elif quantity == 3:\n",
    "        return 2\n",
    "    elif quantity == 4:\n",
    "        return 2\n",
    "    elif quantity == 5:\n",
    "        return 3\n",
    "    else:\n",
    "        raise ValueError"
   ]
  },
  {
   "cell_type": "code",
   "execution_count": 16,
   "metadata": {
    "collapsed": false
   },
   "outputs": [
    {
     "data": {
      "text/plain": [
       "(0.0036009903965311288, 0.0034536395251328436)"
      ]
     },
     "execution_count": 16,
     "metadata": {},
     "output_type": "execute_result"
    }
   ],
   "source": [
    "multilabel['baseline'] = multilabel.quantity.apply(lambda x: 1)\n",
    "multilabel['predAvg'] = multilabel.quantity.apply(classify)\n",
    "baseline = merge.dmc_cost(multilabel.baseline, multilabel.returnQuantity)\n",
    "pred_avg = merge.dmc_cost(multilabel.predAvg, multilabel.returnQuantity)\n",
    "baseline/len(multilabel), pred_avg/len(multilabel)"
   ]
  },
  {
   "cell_type": "code",
   "execution_count": 8,
   "metadata": {
    "collapsed": true
   },
   "outputs": [],
   "source": [
    "X = multilabel[['quantity', 'productGroup', 'price', 'rrp']].as_matrix()\n",
    "y = np.squeeze(multilabel.returnQuantity.as_matrix())"
   ]
  },
  {
   "cell_type": "code",
   "execution_count": 12,
   "metadata": {
    "collapsed": false
   },
   "outputs": [
    {
     "data": {
      "text/plain": [
       "0.99669288353238117"
      ]
     },
     "execution_count": 12,
     "metadata": {},
     "output_type": "execute_result"
    }
   ],
   "source": [
    "clfT = ensemble.RandomForestClassifier()\n",
    "tree_params = dict(criterion=['gini', 'entropy'], max_features=[2, 4], \n",
    "                   max_depth=[2, 4, 8, 100], min_samples_split=[2, 4, 8, 30, 100],\n",
    "                   min_samples_leaf=[1, 4, 32, 100])\n",
    "gsT = grid_search.RandomizedSearchCV(clfT, tree_params, n_iter=200, n_jobs=-1)\n",
    "gsT.fit(X[:300000], y[:300000])\n",
    "gsT.score(X, y)"
   ]
  },
  {
   "cell_type": "code",
   "execution_count": 18,
   "metadata": {
    "collapsed": false
   },
   "outputs": [
    {
     "data": {
      "text/plain": [
       "0.0036993351328908227"
      ]
     },
     "execution_count": 18,
     "metadata": {},
     "output_type": "execute_result"
    }
   ],
   "source": [
    "merge.dmc_cost(gsT.predict(X[300000:]), y[300000:])/(X.shape[0]-300000.)"
   ]
  },
  {
   "cell_type": "code",
   "execution_count": 14,
   "metadata": {
    "collapsed": false
   },
   "outputs": [
    {
     "data": {
      "text/plain": [
       "{'criterion': 'gini',\n",
       " 'max_depth': 100,\n",
       " 'max_features': 2,\n",
       " 'min_samples_leaf': 1,\n",
       " 'min_samples_split': 4}"
      ]
     },
     "execution_count": 14,
     "metadata": {},
     "output_type": "execute_result"
    }
   ],
   "source": [
    "gsT.best_params_"
   ]
  },
  {
   "cell_type": "markdown",
   "metadata": {},
   "source": [
    "# Avg prediction works best because Decision Tree would only overfit\n",
    "A regressor would be more suitable for this particular case and might outperform the avg prediction. On ther other hand side it seems thats only possible with overfitting especially with only few features as used here.\n",
    "\n",
    "Final prediction works as follows"
   ]
  },
  {
   "cell_type": "code",
   "execution_count": 28,
   "metadata": {
    "collapsed": true
   },
   "outputs": [],
   "source": [
    "def classify(row):\n",
    "    print(row)\n",
    "    # if prediction is False/0\n",
    "    if not row.prediction:\n",
    "        return 0\n",
    "    # else\n",
    "    elif quantity == 1:\n",
    "        return 1\n",
    "    elif quantity == 2:\n",
    "        return 1\n",
    "    elif quantity == 3:\n",
    "        return 2\n",
    "    elif quantity == 4:\n",
    "        return 2\n",
    "    elif quantity == 5:\n",
    "        return 3\n",
    "    else:\n",
    "        print('wtf')\n",
    "        raise ValueError"
   ]
  },
  {
   "cell_type": "code",
   "execution_count": null,
   "metadata": {
    "collapsed": true
   },
   "outputs": [],
   "source": []
  }
 ],
 "metadata": {
  "kernelspec": {
   "display_name": "Python 3",
   "language": "python",
   "name": "python3"
  },
  "language_info": {
   "codemirror_mode": {
    "name": "ipython",
    "version": 3
   },
   "file_extension": ".py",
   "mimetype": "text/x-python",
   "name": "python",
   "nbconvert_exporter": "python",
   "pygments_lexer": "ipython3",
   "version": "3.5.1"
  }
 },
 "nbformat": 4,
 "nbformat_minor": 0
}
